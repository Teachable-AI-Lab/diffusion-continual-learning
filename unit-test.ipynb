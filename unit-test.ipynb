{
 "cells": [
  {
   "cell_type": "code",
   "execution_count": 1,
   "metadata": {},
   "outputs": [],
   "source": [
    "%load_ext autoreload\n",
    "%autoreload 2"
   ]
  },
  {
   "cell_type": "code",
   "execution_count": 2,
   "metadata": {},
   "outputs": [
    {
     "name": "stderr",
     "output_type": "stream",
     "text": [
      "/nethome/zwang910/file_storage/miniconda3/envs/dl/lib/python3.13/site-packages/tqdm/auto.py:21: TqdmWarning: IProgress not found. Please update jupyter and ipywidgets. See https://ipywidgets.readthedocs.io/en/stable/user_install.html\n",
      "  from .autonotebook import tqdm as notebook_tqdm\n"
     ]
    }
   ],
   "source": [
    "import os, math, time, random\n",
    "from pathlib import Path\n",
    "import torch\n",
    "from torch import optim\n",
    "from torch.utils.data import DataLoader\n",
    "from torchvision import datasets, transforms\n",
    "from ddim import build_conditional_ddim\n",
    "import utils"
   ]
  },
  {
   "cell_type": "code",
   "execution_count": 3,
   "metadata": {},
   "outputs": [
    {
     "name": "stdout",
     "output_type": "stream",
     "text": [
      "Device: cuda\n"
     ]
    }
   ],
   "source": [
    "device = torch.device(\"cuda\" if torch.cuda.is_available() else \"cpu\")\n",
    "print(\"Device:\", device)\n",
    "\n",
    "# Repro\n",
    "seed = 123\n",
    "random.seed(seed); torch.manual_seed(seed); \n",
    "if device.type == \"cuda\": torch.cuda.manual_seed_all(seed)\n",
    "\n",
    "ROOT = Path(\"./ddim_unit_tests\")\n",
    "ROOT.mkdir(exist_ok=True, parents=True)"
   ]
  },
  {
   "cell_type": "code",
   "execution_count": 4,
   "metadata": {},
   "outputs": [
    {
     "name": "stdout",
     "output_type": "stream",
     "text": [
      "Building DataLoaders for each class in train dataset...\n"
     ]
    },
    {
     "name": "stderr",
     "output_type": "stream",
     "text": [
      "100%|██████████| 50000/50000 [00:07<00:00, 6736.40it/s]\n"
     ]
    },
    {
     "name": "stdout",
     "output_type": "stream",
     "text": [
      "Building DataLoaders for each class in MNIST test dataset...\n"
     ]
    },
    {
     "name": "stderr",
     "output_type": "stream",
     "text": [
      "100%|██████████| 10000/10000 [00:01<00:00, 6707.51it/s]\n"
     ]
    },
    {
     "name": "stdout",
     "output_type": "stream",
     "text": [
      "Building DataLoaders for each class in train dataset...\n"
     ]
    },
    {
     "name": "stderr",
     "output_type": "stream",
     "text": [
      "100%|██████████| 60000/60000 [00:08<00:00, 6710.33it/s]\n"
     ]
    },
    {
     "name": "stdout",
     "output_type": "stream",
     "text": [
      "Building DataLoaders for each class in MNIST test dataset...\n"
     ]
    },
    {
     "name": "stderr",
     "output_type": "stream",
     "text": [
      "100%|██████████| 10000/10000 [00:01<00:00, 6864.53it/s]\n"
     ]
    }
   ],
   "source": [
    "cl_cifar_train_loaders, cl_cifar_test_loaders, cifar_train_loader, cifar_test_loader = utils.get_cl_dataset('cifar10', batch_size=128, normalize=True, greyscale=False)\n",
    "cl_mnist_train_loaders, cl_mnist_test_loaders, mnist_train_loader, mnist_test_loader = utils.get_cl_dataset('mnist', batch_size=128, normalize=True, greyscale=True)"
   ]
  },
  {
   "cell_type": "code",
   "execution_count": 7,
   "metadata": {},
   "outputs": [
    {
     "name": "stdout",
     "output_type": "stream",
     "text": [
      "MNIST model parameters: 35743745\n",
      "CIFAR model parameters: 35747331\n"
     ]
    }
   ],
   "source": [
    "mnist_model = build_conditional_ddim(\n",
    "    in_channel=1,\n",
    "    image_size=32,\n",
    "    # block_out_channels=(16, 16),\n",
    "    # down_block_types=(\"DownBlock2D\",\"DownBlock2D\"),\n",
    "    # up_block_types=(\"UpBlock2D\",\"UpBlock2D\"),\n",
    "    # norm_num_groups=8,\n",
    "    # layers_per_block=1,\n",
    "    num_class_labels=4,\n",
    ").to(device)\n",
    "\n",
    "# print # params\n",
    "print(\"MNIST model parameters:\", sum(p.numel() for p in mnist_model.parameters() if p.requires_grad))\n",
    "\n",
    "cifar_model = build_conditional_ddim(\n",
    "    in_channel=3,\n",
    "    image_size=32,\n",
    "    # block_out_channels=(16, 16),\n",
    "    # down_block_types=(\"DownBlock2D\",\"DownBlock2D\"),\n",
    "    # up_block_types=(\"UpBlock2D\",\"UpBlock2D\"),\n",
    "    # norm_num_groups=8,\n",
    "    # layers_per_block=1,\n",
    "    num_class_labels=2,\n",
    ").to(device)\n",
    "\n",
    "print(\"CIFAR model parameters:\", sum(p.numel() for p in cifar_model.parameters() if p.requires_grad))\n",
    "\n",
    "\n",
    "mnist_opt = optim.Adam(mnist_model.parameters(), lr=2e-4)#, weight_decay=1e-4)\n",
    "cifar_opt = optim.Adam(cifar_model.parameters(), lr=2e-4)#, weight_decay=1e-4)\n"
   ]
  },
  {
   "cell_type": "code",
   "execution_count": 17,
   "metadata": {},
   "outputs": [
    {
     "name": "stderr",
     "output_type": "stream",
     "text": [
      "100%|██████████| 200/200 [1:15:40<00:00, 22.70s/it]\n"
     ]
    }
   ],
   "source": [
    "n_epochs = 200\n",
    "# utils.train_one_task(cifar_model, cl_cifar_train_loaders[0], 0, cifar_opt, None, n_epochs, ROOT, device)\n",
    "utils.train_one_task(mnist_model, cl_mnist_train_loaders[0], 0, mnist_opt, None, n_epochs, ROOT, device)\n",
    "# save the model\n",
    "model_path = ROOT / \"mnist_model_large.pth\"\n",
    "torch.save(mnist_model.state_dict(), model_path)"
   ]
  },
  {
   "cell_type": "code",
   "execution_count": 8,
   "metadata": {},
   "outputs": [
    {
     "data": {
      "text/plain": [
       "<All keys matched successfully>"
      ]
     },
     "execution_count": 8,
     "metadata": {},
     "output_type": "execute_result"
    }
   ],
   "source": [
    "# load the model\n",
    "cifar_model.load_state_dict(torch.load( ROOT / \"cifar_model.pth\", map_location=device))\n",
    "mnist_model.load_state_dict(torch.load( ROOT / \"mnist_model_large.pth\", map_location=device))"
   ]
  },
  {
   "cell_type": "code",
   "execution_count": 10,
   "metadata": {},
   "outputs": [],
   "source": [
    "import torch\n",
    "import torch.nn.functional as F\n",
    "from tqdm import tqdm\n",
    "\n",
    "@torch.no_grad()\n",
    "def _maybe_to(x, device):\n",
    "    return x.to(device) if x.device != device else x\n",
    "\n",
    "def compute_param_scores(\n",
    "    model,\n",
    "    t_level: int,\n",
    "    loaders_by_class,          # e.g., your cl_mnist_train_loaders dict\n",
    "    device: torch.device = torch.device(\"cuda\"),\n",
    "    target_class: int = 0,     # match your `if class_id != 0: continue`\n",
    "    max_samples: int | None = None,\n",
    "):\n",
    "    \"\"\"\n",
    "    Compute per-sample parameter scores (gradients) for a DDPM-style model.\n",
    "\n",
    "    Args:\n",
    "        model: object with attributes `unet` and `scheduler`. The UNet forward should be\n",
    "               compatible with (noisy_x, t[, labels]) and may return either a tensor or\n",
    "               an object with `.sample`.\n",
    "        t_level (int): fixed diffusion timestep to use.\n",
    "        loaders_by_class (dict[int, DataLoader]): mapping class_id -> DataLoader yielding (images, labels).\n",
    "        device (torch.device): device for computation.\n",
    "        target_class (int): which class_id to use from `loaders_by_class`.\n",
    "        max_samples (int|None): stop after collecting this many samples (None = all).\n",
    "\n",
    "    Returns:\n",
    "        param_scores: Tensor of shape (N, D) where N is number of samples processed and\n",
    "                      D is the number of trainable parameters in `model.unet`.\n",
    "    \"\"\"\n",
    "    model.eval()\n",
    "    model = model.to(device)\n",
    "\n",
    "    # Convenience handles\n",
    "    unet = model.unet\n",
    "    scheduler = model.scheduler\n",
    "\n",
    "    param_scores = []\n",
    "    n_collected = 0\n",
    "\n",
    "    # Get the loader for the desired class\n",
    "    if target_class not in loaders_by_class:\n",
    "        raise KeyError(f\"class_id {target_class} not found in loaders_by_class\")\n",
    "    loader = loaders_by_class[target_class]\n",
    "\n",
    "    # Ensure autograd is enabled (we need grads!)\n",
    "    # torch.set_grad_enabled(True)\n",
    "\n",
    "    for images, labels in tqdm(loader, desc=f\"param_scores@t={t_level}\"):\n",
    "        images = _maybe_to(images, device)\n",
    "        labels = _maybe_to(labels, device)\n",
    "\n",
    "        # Loop per-sample to get per-sample grads (simple and faithful to your code)\n",
    "        for img, label in zip(images, labels):\n",
    "            img = img.unsqueeze(0)     # (1, C, H, W)\n",
    "            label = label.unsqueeze(0) # (1,)\n",
    "\n",
    "            # Fix timestep t\n",
    "            # random t in [0, 1000)\n",
    "            t = torch.randint(0, 1000, (1,), device=device, dtype=torch.long)\n",
    "            # t = torch.full((1,), int(t_level), device=device, dtype=torch.long)\n",
    "\n",
    "            # Add noise\n",
    "            noise = torch.randn_like(img, device=device)\n",
    "            noisy_x = scheduler.add_noise(img, noise, t)\n",
    "\n",
    "            # Forward UNet (handle conditional/unconditional + output types)\n",
    "            try:\n",
    "                out = unet(noisy_x, t, label)\n",
    "            except TypeError:\n",
    "                out = unet(noisy_x, t)\n",
    "\n",
    "            pred_noise = out.sample if hasattr(out, \"sample\") else out\n",
    "\n",
    "            # Compute per-sample loss and backward for grads w.r.t. UNet params\n",
    "            unet.zero_grad()\n",
    "            loss = F.mse_loss(pred_noise, noise)\n",
    "            loss.backward()\n",
    "\n",
    "            # Flatten/concat gradients into one vector\n",
    "            grads = []\n",
    "            for p in unet.parameters():\n",
    "                if p.requires_grad and p.grad is not None:\n",
    "                    grads.append(p.grad.reshape(-1))\n",
    "            if not grads:\n",
    "                raise RuntimeError(\"No gradients found on UNet parameters.\")\n",
    "            g_vec = torch.cat(grads).detach().cpu()  # (D,)\n",
    "            param_scores.append(g_vec)\n",
    "\n",
    "            n_collected += 1\n",
    "            if max_samples is not None and n_collected >= max_samples:\n",
    "                break\n",
    "\n",
    "        if max_samples is not None and n_collected >= max_samples:\n",
    "            break\n",
    "\n",
    "    # Stack into (N, D)\n",
    "    if len(param_scores) == 0:\n",
    "        raise RuntimeError(\"Collected zero param_scores. Check your data and forward pass.\")\n",
    "    param_scores = torch.stack(param_scores, dim=0).to(device)\n",
    "    return param_scores"
   ]
  },
  {
   "cell_type": "code",
   "execution_count": 9,
   "metadata": {},
   "outputs": [],
   "source": [
    "import torch\n",
    "import torch.nn.functional as F\n",
    "from tqdm import tqdm\n",
    "\n",
    "@torch.no_grad()\n",
    "def _maybe_to(x, device):\n",
    "    return x.to(device) if x.device != device else x\n",
    "\n",
    "def compute_rank1_coeff_and_mean(\n",
    "    model,\n",
    "    t_level: int,\n",
    "    loaders_by_class,                 # dict[int, DataLoader] yielding (images, labels)\n",
    "    device: torch.device = torch.device(\"cuda\"),\n",
    "    target_class: int = 0,\n",
    "    max_samples: int | None = None,\n",
    "    eps: float = 1e-12,\n",
    "    dtype: torch.dtype = torch.float64,  # use float64 for stable inner products\n",
    "):\n",
    "    \"\"\"\n",
    "    Streaming, two-pass computation of:\n",
    "      - mu: E[g]  (flattened over all trainable UNet parameters)\n",
    "      - c*: optimal rank-1 coefficient along mu mu^T:\n",
    "            c* = E[(mu^T g)^2] / ||mu||^4\n",
    "    No (B,D) allocation; only a running mean and scalar accumulators.\n",
    "\n",
    "    Returns:\n",
    "      c_star (scalar tensor on `device` with `dtype`)\n",
    "      mu     (1-D tensor of length D on `device` with `dtype`)\n",
    "    \"\"\"\n",
    "    model.eval()\n",
    "    model = model.to(device)\n",
    "\n",
    "    unet = model.unet\n",
    "    scheduler = model.scheduler\n",
    "\n",
    "    if target_class not in loaders_by_class:\n",
    "        raise KeyError(f\"class_id {target_class} not found in loaders_by_class\")\n",
    "    loader = loaders_by_class[target_class]\n",
    "\n",
    "    torch.set_grad_enabled(True)\n",
    "\n",
    "    # ---------------- PASS 1: compute mu = E[g] ----------------\n",
    "    mu = None\n",
    "    diag_sum = None\n",
    "    N = 0\n",
    "\n",
    "    pbar = tqdm(loader, desc=f\"[pass1] mu @ t={t_level}\")\n",
    "    for images, labels in pbar:\n",
    "        images = _maybe_to(images, device)\n",
    "        labels = _maybe_to(labels, device)\n",
    "\n",
    "        for img, label in zip(images, labels):\n",
    "            img = img.unsqueeze(0)\n",
    "            label = label.unsqueeze(0)\n",
    "\n",
    "            # t = torch.full((1,), int(t_level), device=device, dtype=torch.long)\n",
    "            # random t in [0, 1000)\n",
    "            t = torch.randint(0, 1000, (1,), device=device, dtype=torch.long)\n",
    "            noise = torch.randn_like(img, device=device)\n",
    "            noisy_x = scheduler.add_noise(img, noise, t)\n",
    "\n",
    "            try:\n",
    "                out = unet(noisy_x, t, label)\n",
    "            except TypeError:\n",
    "                out = unet(noisy_x, t)\n",
    "\n",
    "            pred_noise = out.sample if hasattr(out, \"sample\") else out\n",
    "\n",
    "            unet.zero_grad(set_to_none=True)\n",
    "            loss = F.mse_loss(pred_noise, noise)\n",
    "            loss.backward()\n",
    "\n",
    "            # flatten current sample's gradient\n",
    "            grads = [p.grad.reshape(-1) for p in unet.parameters() if p.requires_grad and p.grad is not None]\n",
    "            if not grads:\n",
    "                raise RuntimeError(\"No gradients found on UNet parameters.\")\n",
    "            g = torch.cat(grads).to(dtype)\n",
    "\n",
    "            if mu is None:\n",
    "                mu = torch.zeros_like(g, device=device, dtype=dtype)\n",
    "                diag_sum = torch.zeros_like(g, device=device, dtype=dtype)\n",
    "\n",
    "            mu += g\n",
    "            diag_sum += g * g  # accumulate ||g||^2 for each sample\n",
    "            N += 1\n",
    "\n",
    "            unet.zero_grad(set_to_none=True)  # free grads ASAP\n",
    "\n",
    "            if max_samples is not None and N >= max_samples:\n",
    "                break\n",
    "        if max_samples is not None and N >= max_samples:\n",
    "            break\n",
    "\n",
    "    if mu is None or N == 0:\n",
    "        raise RuntimeError(\"Collected zero gradients. Check data/forward pass.\")\n",
    "    mu /= float(N)\n",
    "    F_diag = diag_sum / float(N)  # E[||g||^2] per parameter\n",
    "    mu_norm2 = (mu @ mu)\n",
    "\n",
    "    if mu_norm2 <= eps:\n",
    "        # Degenerate direction; best rank-1 coeff is 0\n",
    "        return torch.zeros((), device=device, dtype=dtype), mu\n",
    "\n",
    "    # ---------------- PASS 2: compute a = E[(mu^T g)^2] ----------------\n",
    "    sum_proj2 = torch.zeros((), device=device, dtype=dtype)\n",
    "    M = 0\n",
    "\n",
    "    pbar = tqdm(loader, desc=f\"[pass2] c* @ t={t_level}\")\n",
    "    for images, labels in pbar:\n",
    "        images = _maybe_to(images, device)\n",
    "        labels = _maybe_to(labels, device)\n",
    "\n",
    "        for img, label in zip(images, labels):\n",
    "            img = img.unsqueeze(0)\n",
    "            label = label.unsqueeze(0)\n",
    "\n",
    "            # t = torch.full((1,), int(t_level), device=device, dtype=torch.long)\n",
    "            # random t in [0, 1000)\n",
    "            t = torch.randint(0, 1000, (1,), device=device, dtype=torch.long)\n",
    "            noise = torch.randn_like(img, device=device)\n",
    "            noisy_x = scheduler.add_noise(img, noise, t)\n",
    "\n",
    "            try:\n",
    "                out = unet(noisy_x, t, label)\n",
    "            except TypeError:\n",
    "                out = unet(noisy_x, t)\n",
    "            pred_noise = out.sample if hasattr(out, \"sample\") else out\n",
    "\n",
    "            unet.zero_grad(set_to_none=True)\n",
    "            loss = F.mse_loss(pred_noise, noise)\n",
    "            loss.backward()\n",
    "\n",
    "            grads = [p.grad.reshape(-1) for p in unet.parameters() if p.requires_grad and p.grad is not None]\n",
    "            g = torch.cat(grads).to(dtype)\n",
    "\n",
    "            s = (g @ mu)            # scalar projection\n",
    "            sum_proj2 += s * s      # accumulate (mu^T g)^2\n",
    "            M += 1\n",
    "\n",
    "            unet.zero_grad(set_to_none=True)\n",
    "\n",
    "            if max_samples is not None and M >= max_samples:\n",
    "                break\n",
    "        if max_samples is not None and M >= max_samples:\n",
    "            break\n",
    "\n",
    "    a = sum_proj2 / float(M)        # a = E[(mu^T g)^2]\n",
    "    c_star = a / (mu_norm2 * mu_norm2 + eps)\n",
    "\n",
    "    return c_star, mu, F_diag\n"
   ]
  },
  {
   "cell_type": "code",
   "execution_count": 10,
   "metadata": {},
   "outputs": [
    {
     "name": "stderr",
     "output_type": "stream",
     "text": [
      "[pass1] mu @ t=0: 100%|██████████| 99/99 [08:23<00:00,  5.09s/it]\n",
      "[pass2] c* @ t=0: 100%|██████████| 99/99 [08:15<00:00,  5.01s/it]\n"
     ]
    }
   ],
   "source": [
    "c, mu, diag = compute_rank1_coeff_and_mean(\n",
    "        mnist_model, 0, cl_mnist_train_loaders, device=device, target_class=0, max_samples=None\n",
    ")\n"
   ]
  },
  {
   "cell_type": "code",
   "execution_count": 11,
   "metadata": {},
   "outputs": [],
   "source": [
    "import copy\n",
    "\n",
    "class EWC:\n",
    "    def __init__(self, model, fisher_type, *, mu=None, c=None, diag=None):\n",
    "        self.model = model                      # current, mutating model\n",
    "        self.fisher_type = fisher_type          # \"diag\" | \"rank1\" | \"rank1_opt\"\n",
    "        self.mu = mu\n",
    "        self.c = c\n",
    "        self.diag = diag\n",
    "\n",
    "        # freeze a Task-0 copy and cache its flattened params\n",
    "        self.model0 = copy.deepcopy(model).eval()\n",
    "        self.theta0 = self._flat_unet_params(self.model0).detach()\n",
    "        for p in self.model0.parameters():\n",
    "            p.requires_grad_(False)\n",
    "\n",
    "    @staticmethod\n",
    "    def _flat_unet_params(m):\n",
    "        return torch.cat([p.view(-1) for p in m.unet.parameters() if p.requires_grad])\n",
    "\n",
    "    def loss(self):\n",
    "        theta = self._flat_unet_params(self.model)\n",
    "        delta = theta - self.theta0.to(theta)\n",
    "\n",
    "        if self.fisher_type == \"diag\":\n",
    "            return 0.5 * (self.diag.to(theta) * (delta * delta)).sum()\n",
    "\n",
    "        proj = (self.mu.to(theta) * delta).sum()\n",
    "        if self.fisher_type == \"rank1_opt\":\n",
    "            return 0.5 * float(self.c) * (proj * proj)\n",
    "        else:  # \"rank1\"\n",
    "            return 0.5 * (proj * proj)\n",
    "\n",
    "\n"
   ]
  },
  {
   "cell_type": "code",
   "execution_count": 12,
   "metadata": {},
   "outputs": [
    {
     "name": "stderr",
     "output_type": "stream",
     "text": [
      "100%|██████████| 200/200 [1:15:26<00:00, 22.63s/it]\n"
     ]
    }
   ],
   "source": [
    "n_epochs = 200\n",
    "# create a static copy of the model\n",
    "# mnist_model.load_state_dict(torch.load( ROOT / \"mnist_model_large.pth\", map_location=device))\n",
    "# mnist_opt = optim.Adam(mnist_model.parameters(), lr=2e-4)#, weight_decay=1e-4)\n",
    "# ewc = EWC(mnist_model, \"diag\", diag=diag)\n",
    "# utils.train_one_task(mnist_model, cl_mnist_train_loaders[1], 1, mnist_opt, ewc, n_epochs, ROOT, device)\n",
    "# # save the model\n",
    "# model_path = ROOT / \"mnist_model_large-task1-diag.pth\"\n",
    "# torch.save(mnist_model.state_dict(), model_path)\n",
    "\n",
    "# mnist_model.load_state_dict(torch.load( ROOT / \"mnist_model_large.pth\", map_location=device))\n",
    "# mnist_opt = optim.Adam(mnist_model.parameters(), lr=2e-4)#, weight_decay=1e-4)\n",
    "# ewc = EWC(mnist_model, \"rank1_opt\", mu=mu, c=c)\n",
    "# utils.train_one_task(mnist_model, cl_mnist_train_loaders[1], 1, mnist_opt, ewc, n_epochs, ROOT, device)\n",
    "# # save the model\n",
    "# model_path = ROOT / \"mnist_model_large-task1-rank1_opt.pth\"\n",
    "# torch.save(mnist_model.state_dict(), model_path)\n",
    "\n",
    "mnist_model.load_state_dict(torch.load( ROOT / \"mnist_model_large.pth\", map_location=device))\n",
    "mnist_opt = optim.Adam(mnist_model.parameters(), lr=2e-4)#, weight_decay=1e-4)\n",
    "ewc = EWC(mnist_model, \"rank1\", mu=mu, c=c)\n",
    "utils.train_one_task(mnist_model, cl_mnist_train_loaders[1], 1, mnist_opt, ewc, n_epochs, ROOT, device)\n",
    "# save the model\n",
    "model_path = ROOT / \"mnist_model_large-task1-rank1.pth\"\n",
    "torch.save(mnist_model.state_dict(), model_path)\n",
    "\n",
    "\n"
   ]
  },
  {
   "cell_type": "code",
   "execution_count": 10,
   "metadata": {},
   "outputs": [
    {
     "name": "stdout",
     "output_type": "stream",
     "text": [
      "c*: 2.4314064545781235\n"
     ]
    }
   ],
   "source": [
    "print(\"c*:\", c.item())"
   ]
  },
  {
   "cell_type": "code",
   "execution_count": 11,
   "metadata": {},
   "outputs": [
    {
     "name": "stderr",
     "output_type": "stream",
     "text": [
      "compare_F_errors@t=500:   1%|          | 1/99 [03:47<6:12:06, 227.82s/it]\n"
     ]
    },
    {
     "ename": "KeyboardInterrupt",
     "evalue": "",
     "output_type": "error",
     "traceback": [
      "\u001b[31m---------------------------------------------------------------------------\u001b[39m",
      "\u001b[31mKeyboardInterrupt\u001b[39m                         Traceback (most recent call last)",
      "\u001b[36mCell\u001b[39m\u001b[36m \u001b[39m\u001b[32mIn[11]\u001b[39m\u001b[32m, line 1\u001b[39m\n\u001b[32m----> \u001b[39m\u001b[32m1\u001b[39m out = utils.compare_fisher_errors_streaming(\n\u001b[32m      2\u001b[39m         mnist_model, \u001b[32m500\u001b[39m, cl_mnist_train_loaders, mu, c, device=device, target_class=\u001b[32m0\u001b[39m, max_samples=\u001b[38;5;28;01mNone\u001b[39;00m\n\u001b[32m      3\u001b[39m )\n",
      "\u001b[36mFile \u001b[39m\u001b[32m<string>:49\u001b[39m, in \u001b[36mcompare_fisher_errors_streaming\u001b[39m\u001b[34m(model, t_level, loaders_by_class, mu, c_star, target_class, device, dtype, max_samples, num_diag_probes)\u001b[39m\n",
      "\u001b[31mKeyboardInterrupt\u001b[39m: "
     ]
    }
   ],
   "source": [
    "out = utils.compare_fisher_errors_streaming(\n",
    "        mnist_model, 500, cl_mnist_train_loaders, mu, c, device=device, target_class=0, max_samples=None\n",
    ")"
   ]
  },
  {
   "cell_type": "code",
   "execution_count": 11,
   "metadata": {},
   "outputs": [],
   "source": [
    "import math, torch\n",
    "\n",
    "@torch.no_grad()\n",
    "def empirical_fisher_dense(param_scores: torch.Tensor) -> torch.Tensor:\n",
    "    \"\"\"\n",
    "    param_scores: (B, D) on CUDA, dtype=torch.float32 (recommended)\n",
    "    Returns Fisher: (D, D) on CUDA, float32\n",
    "    \"\"\"\n",
    "    assert param_scores.is_cuda, \"Move param_scores to CUDA\"\n",
    "    # Enable TF32 for big speedups on Ampere+ with minor precision loss\n",
    "    torch.backends.cuda.matmul.allow_tf32 = True\n",
    "    torch.backends.cudnn.allow_tf32 = True\n",
    "    torch.set_float32_matmul_precision(\"high\")\n",
    "\n",
    "    X = param_scores.contiguous()                            # (B, D)\n",
    "    B = X.shape[0]\n",
    "    # Pre-scale to reduce one kernel and improve numerical stability\n",
    "    X = X * (1.0 / math.sqrt(B))\n",
    "    F = X.T @ X                                              # (D, D)\n",
    "    return F\n",
    "\n",
    "# Fisher = empirical_fisher_dense(param_scores)  # (D, D)"
   ]
  },
  {
   "cell_type": "code",
   "execution_count": 12,
   "metadata": {},
   "outputs": [],
   "source": [
    "def optimal_rank1_coeff(param_scores: torch.Tensor, eps: float = 1e-12, use_float64: bool = True):\n",
    "    \"\"\"\n",
    "    param_scores: (B, D) tensor where each row is a per-sample parameter score/grad g_i\n",
    "    Returns:\n",
    "      c_star: scalar tensor (optimal coefficient for c * μ μ^T)\n",
    "      mu:     (D,) tensor, the batch mean μ\n",
    "    Computes c* = E[(μ^T g)^2] / ||μ||^4, with E taken over the batch,\n",
    "    avoiding any D×D matrix construction.\n",
    "    \"\"\"\n",
    "    x = param_scores\n",
    "    if use_float64:\n",
    "        x = x.to(torch.float64)\n",
    "\n",
    "    # μ = E[g]\n",
    "    mu = x.mean(dim=0)                                    # (D,)\n",
    "    mu_norm2 = mu.dot(mu)                                 # ||μ||^2\n",
    "\n",
    "    # Handle μ ≈ 0 safely (then the best scalar along μμ^T is 0)\n",
    "    if mu_norm2 <= eps:\n",
    "        c_star = torch.zeros((), device=x.device, dtype=x.dtype)\n",
    "        return c_star.to(param_scores.dtype), mu.to(param_scores.dtype)\n",
    "\n",
    "    # μ^T F μ = E[(μ^T g)^2] = mean of squared projections of g on μ\n",
    "    proj = x @ mu                                         # (B,)\n",
    "    a = (proj * proj).mean()                              # μ^T F μ\n",
    "\n",
    "    # c* = a / ||μ||^4\n",
    "    c_star = a / (mu_norm2 * mu_norm2)\n",
    "\n",
    "    return c_star.to('cpu'), mu.to('cpu')\n",
    "\n",
    "# -----------------------\n",
    "# Example usage:\n",
    "# param_scores: (B, D) per-sample grads/scores already on CUDA/CPU\n",
    "# c_star, mu = optimal_rank1_coeff(param_scores)\n",
    "# EWC rank-1 penalty for a parameter delta dθ:\n",
    "# penalty = 0.5 * c_star * (mu.flatten() @ dtheta.flatten())**2\n",
    "# c, mu = optimal_rank1_coeff(param_scores, eps=1e-12, use_float64=False)\n",
    "# print(\"Optimal coefficient c*:\", c)\n"
   ]
  },
  {
   "cell_type": "code",
   "execution_count": 13,
   "metadata": {},
   "outputs": [
    {
     "name": "stderr",
     "output_type": "stream",
     "text": [
      "param_scores@t=0: 100%|██████████| 99/99 [03:16<00:00,  1.98s/it]\n"
     ]
    },
    {
     "name": "stdout",
     "output_type": "stream",
     "text": [
      "Optimal coefficient c*: tensor(6.1715)\n"
     ]
    }
   ],
   "source": [
    "param_scores = compute_param_scores(\n",
    "        mnist_model, 0, cl_mnist_train_loaders, device=device, target_class=0, max_samples=None\n",
    "    )\n",
    "c, mu = optimal_rank1_coeff(param_scores, eps=1e-12, use_float64=False)\n",
    "print(\"Optimal coefficient c*:\", c)\n"
   ]
  },
  {
   "cell_type": "code",
   "execution_count": 14,
   "metadata": {},
   "outputs": [
    {
     "name": "stdout",
     "output_type": "stream",
     "text": [
      "Fisher diagonal error: 0.24445213377475739\n",
      "Fisher rank-1 score error: 0.23750638961791992\n",
      "Fisher rank-1 optimal error: 0.21870514750480652\n"
     ]
    }
   ],
   "source": [
    "Fisher = empirical_fisher_dense(param_scores).to('cpu')  # (D, D)\n",
    "c, mu = optimal_rank1_coeff(param_scores, eps=1e-12, use_float64=False)\n",
    "\n",
    "F_diag = torch.diag(torch.diag(Fisher))\n",
    "err_diag = torch.linalg.norm(Fisher - F_diag)\n",
    "print(\"Fisher diagonal error:\", err_diag.item())\n",
    "\n",
    "# rank-1 as score\n",
    "F_r1_score = mu.unsqueeze(1) @ mu.unsqueeze(0)  # (D, D)\n",
    "err_r1_score = torch.linalg.norm(Fisher - F_r1_score)\n",
    "print(\"Fisher rank-1 score error:\", err_r1_score.item())\n",
    "\n",
    "F_r1_optimal = mu.unsqueeze(1) @ mu.unsqueeze(0) * c  # (D, D)\n",
    "err_r1_optimal = torch.linalg.norm(Fisher - F_r1_optimal)\n",
    "print(\"Fisher rank-1 optimal error:\", err_r1_optimal.item())"
   ]
  },
  {
   "cell_type": "code",
   "execution_count": 13,
   "metadata": {},
   "outputs": [
    {
     "name": "stdout",
     "output_type": "stream",
     "text": [
      "Computing param scores for t_level=100\n"
     ]
    },
    {
     "name": "stderr",
     "output_type": "stream",
     "text": [
      "param_scores@t=100: 100%|██████████| 99/99 [03:17<00:00,  1.99s/it]\n"
     ]
    },
    {
     "name": "stdout",
     "output_type": "stream",
     "text": [
      "Computing param scores for t_level=200\n"
     ]
    },
    {
     "name": "stderr",
     "output_type": "stream",
     "text": [
      "param_scores@t=200: 100%|██████████| 99/99 [03:09<00:00,  1.92s/it]\n"
     ]
    },
    {
     "name": "stdout",
     "output_type": "stream",
     "text": [
      "Computing param scores for t_level=300\n"
     ]
    },
    {
     "name": "stderr",
     "output_type": "stream",
     "text": [
      "param_scores@t=300: 100%|██████████| 99/99 [03:10<00:00,  1.92s/it]\n"
     ]
    },
    {
     "name": "stdout",
     "output_type": "stream",
     "text": [
      "Computing param scores for t_level=400\n"
     ]
    },
    {
     "name": "stderr",
     "output_type": "stream",
     "text": [
      "param_scores@t=400: 100%|██████████| 99/99 [03:09<00:00,  1.91s/it]\n"
     ]
    },
    {
     "name": "stdout",
     "output_type": "stream",
     "text": [
      "Computing param scores for t_level=500\n"
     ]
    },
    {
     "name": "stderr",
     "output_type": "stream",
     "text": [
      "param_scores@t=500: 100%|██████████| 99/99 [03:21<00:00,  2.03s/it]\n"
     ]
    },
    {
     "name": "stdout",
     "output_type": "stream",
     "text": [
      "Computing param scores for t_level=600\n"
     ]
    },
    {
     "name": "stderr",
     "output_type": "stream",
     "text": [
      "param_scores@t=600: 100%|██████████| 99/99 [03:14<00:00,  1.96s/it]\n"
     ]
    },
    {
     "name": "stdout",
     "output_type": "stream",
     "text": [
      "Computing param scores for t_level=700\n"
     ]
    },
    {
     "name": "stderr",
     "output_type": "stream",
     "text": [
      "param_scores@t=700: 100%|██████████| 99/99 [03:11<00:00,  1.94s/it]\n"
     ]
    },
    {
     "name": "stdout",
     "output_type": "stream",
     "text": [
      "Computing param scores for t_level=800\n"
     ]
    },
    {
     "name": "stderr",
     "output_type": "stream",
     "text": [
      "param_scores@t=800: 100%|██████████| 99/99 [03:14<00:00,  1.96s/it]\n"
     ]
    },
    {
     "name": "stdout",
     "output_type": "stream",
     "text": [
      "Computing param scores for t_level=900\n"
     ]
    },
    {
     "name": "stderr",
     "output_type": "stream",
     "text": [
      "param_scores@t=900: 100%|██████████| 99/99 [03:09<00:00,  1.92s/it]\n"
     ]
    },
    {
     "data": {
      "image/png": "[encoded data removed]",
      "text/plain": [
       "<Figure size 1000x500 with 1 Axes>"
      ]
     },
     "metadata": {},
     "output_type": "display_data"
    }
   ],
   "source": [
    "# loop through differnet t_levels\n",
    "t_levels = [100, 200, 300, 400, 500, 600, 700, 800, 900]\n",
    "diag_errors = []\n",
    "rank1_errors = []\n",
    "rank1_optimal_errors = []\n",
    "for t_level in t_levels:\n",
    "    print(f\"Computing param scores for t_level={t_level}\")\n",
    "    param_scores = compute_param_scores(\n",
    "        mnist_model, t_level, cl_mnist_train_loaders, device=device, target_class=0, max_samples=None\n",
    "    )\n",
    "    Fisher = empirical_fisher_dense(param_scores).to('cpu')  # (D, D)\n",
    "    c, mu = optimal_rank1_coeff(param_scores, eps=1e-12, use_float64=False)\n",
    "\n",
    "    F_diag = torch.diag(torch.diag(Fisher))\n",
    "    err_diag = torch.linalg.norm(Fisher - F_diag)\n",
    "\n",
    "    # rank-1 as score\n",
    "    F_r1_score = mu.unsqueeze(1) @ mu.unsqueeze(0)  # (D, D)\n",
    "    err_r1_score = torch.linalg.norm(Fisher - F_r1_score)\n",
    "\n",
    "    F_r1_optimal = mu.unsqueeze(1) @ mu.unsqueeze(0) * c  # (D, D)\n",
    "    err_r1_optimal = torch.linalg.norm(Fisher - F_r1_optimal)\n",
    "\n",
    "    diag_errors.append(err_diag.item())\n",
    "    rank1_errors.append(err_r1_score.item())\n",
    "    rank1_optimal_errors.append(err_r1_optimal.item())\n",
    "\n",
    "# plot errors\n",
    "import matplotlib.pyplot as plt\n",
    "plt.figure(figsize=(10, 5))\n",
    "plt.plot(t_levels, diag_errors, label='Diagonal Error', marker='o')\n",
    "plt.plot(t_levels, rank1_errors, label='Rank-1 Error', marker='o')\n",
    "plt.plot(t_levels, rank1_optimal_errors, label='Optimal Rank-1 Error', marker='o')\n",
    "plt.xlabel('Timestep Level')\n",
    "plt.ylabel('Error Norm')\n",
    "plt.title('EWC Fisher Matrix Approximation Errors')\n",
    "plt.legend()\n",
    "plt.grid()\n",
    "plt.savefig(ROOT / \"ewc_fisher_errors.png\")\n",
    "plt.show()"
   ]
  },
  {
   "cell_type": "code",
   "execution_count": 14,
   "metadata": {},
   "outputs": [
    {
     "name": "stdout",
     "output_type": "stream",
     "text": [
      "Diagonal Errors: [0.240617036819458, 0.1176314428448677, 0.09819727391004562, 0.07399624586105347, 0.04979902505874634, 0.027024835348129272, 0.014157526195049286, 0.009110557846724987, 0.004728379193693399]\n",
      "Rank-1 Errors: [0.15717117488384247, 0.09304080903530121, 0.07390189170837402, 0.059429511427879333, 0.03818073123693466, 0.0216315146535635, 0.009947557002305984, 0.005607550963759422, 0.004664273466914892]\n",
      "Optimal Rank-1 Errors: [0.1272253841161728, 0.06493214517831802, 0.0470103845000267, 0.02863071858882904, 0.01922937110066414, 0.006164396647363901, 0.0027159666642546654, 0.0031556030735373497, 0.004175945650786161]\n"
     ]
    }
   ],
   "source": [
    "print(\"Diagonal Errors:\", diag_errors)\n",
    "print(\"Rank-1 Errors:\", rank1_errors)\n",
    "print(\"Optimal Rank-1 Errors:\", rank1_optimal_errors)"
   ]
  },
  {
   "cell_type": "code",
   "execution_count": 19,
   "metadata": {},
   "outputs": [
    {
     "data": {
      "image/png": "[encoded data removed]",
      "text/plain": [
       "<Figure size 1000x500 with 1 Axes>"
      ]
     },
     "metadata": {},
     "output_type": "display_data"
    }
   ],
   "source": [
    "# plot errors\n",
    "import matplotlib.pyplot as plt\n",
    "import numpy as np\n",
    "plt.figure(figsize=(10, 5))\n",
    "plt.plot(t_levels, np.array(diag_errors)*10000, label='Diagonal Error', marker='o')\n",
    "plt.plot(t_levels, np.array(rank1_errors)*10000, label='Rank-1 Error', marker='o')\n",
    "plt.plot(t_levels, np.array(rank1_optimal_errors)*10000, label='Optimal Rank-1 Error', marker='o')\n",
    "# log scale y\n",
    "plt.yscale('log')\n",
    "plt.xlabel('Timestep Level')\n",
    "plt.ylabel('Error Norm')\n",
    "plt.title('EWC Fisher Matrix Approximation Errors')\n",
    "plt.legend()\n",
    "plt.grid()\n",
    "# plt.savefig(ROOT / \"ewc_fisher_errors.png\")\n",
    "plt.show()"
   ]
  },
  {
   "cell_type": "code",
   "execution_count": 28,
   "metadata": {},
   "outputs": [
    {
     "name": "stdout",
     "output_type": "stream",
     "text": [
      "torch.Size([68881, 68881]) torch.Size([12665, 68881])\n",
      "‖F-F_diag‖_F = 0.0372062847,  ‖F-F_r1_score‖_F = 0.0157281570\n"
     ]
    }
   ],
   "source": [
    "# assume Fisher is your [D×D] matrix on CPU or GPU\n",
    "F = Fisher.to('cpu')  # ensure Fisher is on the same device as scores\n",
    "print(F.shape, param_scores.shape)\n",
    "param_scores = param_scores.to('cpu')  # ensure param_scores is on the same device as Fisher\n",
    "\n",
    "\n",
    "# 2.2 Frobenius‐norm error of diagonal\n",
    "F_diag = torch.diag(torch.diag(F))\n",
    "err_diag = torch.linalg.norm(F - F_diag)\n",
    "\n",
    "\n",
    "# 2.4 rank-1 as score\n",
    "# F_r1_score = param_scores.mean(dim=0).unsqueeze(1) @ param_scores.mean(dim=0).unsqueeze(0)\n",
    "F_r1_score = mu.unsqueeze(1) @ mu.unsqueeze(0) * c  # (D, D)\n",
    "err_r1_score = torch.linalg.norm(F - F_r1_score)\n",
    "\n",
    "print(f\"‖F-F_diag‖_F = {err_diag:.10f},  ‖F-F_r1_score‖_F = {err_r1_score:.10f}\")\n"
   ]
  },
  {
   "cell_type": "code",
   "execution_count": null,
   "metadata": {},
   "outputs": [],
   "source": [
    "# approx large Fisher with rank-1\n"
   ]
  },
  {
   "cell_type": "markdown",
   "metadata": {},
   "source": [
    "# test FID"
   ]
  },
  {
   "cell_type": "code",
   "execution_count": 13,
   "metadata": {},
   "outputs": [
    {
     "name": "stdout",
     "output_type": "stream",
     "text": [
      "FID (MNIST train vs samples): 36.637\n"
     ]
    }
   ],
   "source": [
    "fid_eval = utils.FIDEvaluator(device=device)\n",
    "fid_mnist = fid_eval.fid_loader_vs_model(cl_cifar_test_loaders[0], cifar_model)\n",
    "print(f\"FID (MNIST train vs samples): {fid_mnist:.3f}\")"
   ]
  },
  {
   "cell_type": "code",
   "execution_count": 14,
   "metadata": {},
   "outputs": [
    {
     "name": "stdout",
     "output_type": "stream",
     "text": [
      "FID (MNIST train vs samples): 169.732\n"
     ]
    }
   ],
   "source": [
    "mnist_model.load_state_dict(torch.load( ROOT / \"mnist_model_large-task1-rank1_opt.pth\", map_location=device))\n",
    "fid_eval = utils.FIDEvaluator(device=device)\n",
    "fid_mnist = fid_eval.fid_loader_vs_model(cl_mnist_test_loaders[0], mnist_model)\n",
    "print(f\"FID (MNIST train vs samples): {fid_mnist:.3f}\")"
   ]
  },
  {
   "cell_type": "code",
   "execution_count": 26,
   "metadata": {},
   "outputs": [
    {
     "data": {
      "image/png": "[encoded data removed]",
      "text/plain": [
       "<Figure size 600x600 with 1 Axes>"
      ]
     },
     "metadata": {},
     "output_type": "display_data"
    }
   ],
   "source": [
    "# test mnist model sampling\n",
    "import matplotlib.pyplot as plt\n",
    "# random labels between 0 and 1\n",
    "n_samples = 16\n",
    "labels = torch.randint(0, 2, (n_samples,), device=device)\n",
    "samples = mnist_model.sample(n_samples, labels=labels, num_inference_steps=50, device=device, seed=123)\n",
    "samples = (samples + 1) / 2  # to [0, 1]\n",
    "grid_img = utils.make_grid(samples, nrow=4)\n",
    "plt.figure(figsize=(6,6))\n",
    "plt.imshow(grid_img.permute(1, 2, 0).cpu())\n",
    "plt.axis('off')\n",
    "plt.title(\"MNIST Samples\")\n",
    "# plt.savefig(ROOT / \"mnist_samples.png\")\n",
    "plt.show()"
   ]
  },
  {
   "cell_type": "code",
   "execution_count": null,
   "metadata": {},
   "outputs": [],
   "source": []
  },
  {
   "cell_type": "code",
   "execution_count": 11,
   "metadata": {},
   "outputs": [
    {
     "data": {
      "text/plain": [
       "dict_keys([0, 1, 2, 3, 4])"
      ]
     },
     "execution_count": 11,
     "metadata": {},
     "output_type": "execute_result"
    }
   ],
   "source": [
    "cl_mnist_test_loaders.keys()"
   ]
  },
  {
   "cell_type": "code",
   "execution_count": null,
   "metadata": {},
   "outputs": [],
   "source": []
  }
 ],
 "metadata": {
  "kernelspec": {
   "display_name": "dl",
   "language": "python",
   "name": "python3"
  },
  "language_info": {
   "codemirror_mode": {
    "name": "ipython",
    "version": 3
   },
   "file_extension": ".py",
   "mimetype": "text/x-python",
   "name": "python",
   "nbconvert_exporter": "python",
   "pygments_lexer": "ipython3",
   "version": "3.13.2"
  }
 },
 "nbformat": 4,
 "nbformat_minor": 2
}
