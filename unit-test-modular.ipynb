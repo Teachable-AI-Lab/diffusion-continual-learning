{
 "cells": [
  {
   "cell_type": "code",
   "execution_count": 1,
   "id": "a9e69742",
   "metadata": {},
   "outputs": [],
   "source": [
    "%load_ext autoreload\n",
    "%autoreload 2"
   ]
  },
  {
   "cell_type": "code",
   "execution_count": 15,
   "id": "73595f84",
   "metadata": {},
   "outputs": [],
   "source": [
    "import os, math, time, random\n",
    "from pathlib import Path\n",
    "import torch\n",
    "from torch import optim\n",
    "import matplotlib.pyplot as plt\n",
    "import numpy as np\n",
    "\n",
    "# Import high-level experiment functions\n",
    "from src.experiment_runner import (\n",
    "    setup_experiment, load_datasets, create_models, \n",
    "    train_task_0, compute_fisher_information, \n",
    "    train_continual_learning_tasks, analyze_fisher_errors_across_timesteps,\n",
    "    evaluate_fid, sample_and_visualize\n",
    ")\n",
    "from src.parameter_scoring import compute_param_scores\n",
    "from src.ewc import EWC\n",
    "from src.fisher_analysis import empirical_fisher_dense, optimal_rank1_coeff\n",
    "from src.experimental_utils import analyze_fisher_approximations\n",
    "import src.utils as utils\n",
    "from src.gr import GenerativeReplay"
   ]
  },
  {
   "cell_type": "code",
   "execution_count": 3,
   "id": "8c1c2a83",
   "metadata": {},
   "outputs": [
    {
     "name": "stdout",
     "output_type": "stream",
     "text": [
      "Device: cuda\n",
      "Experiment root directory: ddim_unit_tests\n"
     ]
    }
   ],
   "source": [
    "# Setup experiment with one function call\n",
    "device, ROOT = setup_experiment(seed=123)"
   ]
  },
  {
   "cell_type": "code",
   "execution_count": 4,
   "id": "7521e248",
   "metadata": {},
   "outputs": [
    {
     "name": "stdout",
     "output_type": "stream",
     "text": [
      "Building DataLoaders for each class in train dataset...\n"
     ]
    },
    {
     "name": "stderr",
     "output_type": "stream",
     "text": [
      "100%|██████████| 50000/50000 [00:07<00:00, 6482.37it/s]\n"
     ]
    },
    {
     "name": "stdout",
     "output_type": "stream",
     "text": [
      "Building DataLoaders for each class in MNIST test dataset...\n"
     ]
    },
    {
     "name": "stderr",
     "output_type": "stream",
     "text": [
      "100%|██████████| 10000/10000 [00:01<00:00, 5834.72it/s]\n"
     ]
    },
    {
     "name": "stdout",
     "output_type": "stream",
     "text": [
      "Building DataLoaders for each class in train dataset...\n"
     ]
    },
    {
     "name": "stderr",
     "output_type": "stream",
     "text": [
      "100%|██████████| 60000/60000 [00:09<00:00, 6571.64it/s]\n"
     ]
    },
    {
     "name": "stdout",
     "output_type": "stream",
     "text": [
      "Building DataLoaders for each class in MNIST test dataset...\n"
     ]
    },
    {
     "name": "stderr",
     "output_type": "stream",
     "text": [
      "100%|██████████| 10000/10000 [00:01<00:00, 6759.68it/s]\n"
     ]
    }
   ],
   "source": [
    "# Load all datasets with one function call\n",
    "datasets = load_datasets(batch_size=128)\n",
    "cl_mnist_train_loaders, cl_mnist_test_loaders = datasets['cl_mnist_train'], datasets['cl_mnist_test']\n",
    "cl_cifar_train_loaders, cl_cifar_test_loaders = datasets['cl_cifar_train'], datasets['cl_cifar_test']"
   ]
  },
  {
   "cell_type": "code",
   "execution_count": 5,
   "id": "b20d10e8",
   "metadata": {},
   "outputs": [
    {
     "name": "stdout",
     "output_type": "stream",
     "text": [
      "MNIST model parameters: 35743745\n",
      "CIFAR model parameters: 35747331\n"
     ]
    }
   ],
   "source": [
    "# Create models and optimizers with one function call\n",
    "mnist_model, cifar_model, mnist_opt, cifar_opt = create_models(device)"
   ]
  },
  {
   "cell_type": "code",
   "execution_count": null,
   "id": "8b29ce13",
   "metadata": {},
   "outputs": [],
   "source": [
    "# Train Task 0 with one function call\n",
    "train_task_0(mnist_model, cl_mnist_train_loaders[0], mnist_opt, 200, ROOT, device, \"mnist_model_large\")"
   ]
  },
  {
   "cell_type": "code",
   "execution_count": 7,
   "id": "bea6b3a7",
   "metadata": {},
   "outputs": [
    {
     "data": {
      "text/plain": [
       "<All keys matched successfully>"
      ]
     },
     "execution_count": 7,
     "metadata": {},
     "output_type": "execute_result"
    }
   ],
   "source": [
    "# load the model\n",
    "cifar_model.load_state_dict(torch.load( ROOT / \"cifar_model.pth\", map_location=device))\n",
    "mnist_model.load_state_dict(torch.load( ROOT / \"mnist_model_large.pth\", map_location=device))"
   ]
  },
  {
   "cell_type": "code",
   "execution_count": null,
   "id": "6b379de5",
   "metadata": {},
   "outputs": [],
   "source": [
    "# Using the modular compute_param_scores function\n",
    "param_scores = compute_param_scores(\n",
    "    mnist_model, \n",
    "    t_level=0, \n",
    "    loaders_by_class=cl_mnist_train_loaders, \n",
    "    device=device, \n",
    "    target_class=0, \n",
    "    max_samples=None\n",
    ")\n",
    "print(f\"Parameter scores shape: {param_scores.shape}\")"
   ]
  },
  {
   "cell_type": "code",
   "execution_count": 8,
   "id": "958b47d5",
   "metadata": {},
   "outputs": [
    {
     "name": "stdout",
     "output_type": "stream",
     "text": [
      "Computing Fisher information...\n"
     ]
    },
    {
     "name": "stderr",
     "output_type": "stream",
     "text": [
      "[pass1] mu @ t=0: 100%|██████████| 99/99 [08:53<00:00,  5.39s/it]\n",
      "[pass2] c* @ t=0: 100%|██████████| 99/99 [08:37<00:00,  5.23s/it]\n"
     ]
    },
    {
     "name": "stdout",
     "output_type": "stream",
     "text": [
      "Streaming optimal coefficient c*: 2.8782996760523107\n"
     ]
    }
   ],
   "source": [
    "# Compute Fisher information with one function call  \n",
    "c, mu, diag = compute_fisher_information(mnist_model, cl_mnist_train_loaders, device)\n",
    "# save the fisher information\n",
    "torch.save((c, mu, diag), ROOT / \"mnisy-fisher_info_task0.pth\")"
   ]
  },
  {
   "cell_type": "code",
   "execution_count": null,
   "id": "76654678",
   "metadata": {},
   "outputs": [],
   "source": [
    "# Using the modular EWC class\n"
   ]
  },
  {
   "cell_type": "code",
   "execution_count": 17,
   "id": "b1e699d3",
   "metadata": {},
   "outputs": [
    {
     "name": "stdout",
     "output_type": "stream",
     "text": [
      "EWC objects created successfully\n"
     ]
    },
    {
     "name": "stderr",
     "output_type": "stream",
     "text": [
      "100%|██████████| 2/2 [04:33<00:00, 136.76s/it]"
     ]
    },
    {
     "name": "stdout",
     "output_type": "stream",
     "text": [
      "GenerativeReplay: built pool of 10000 images for replay.\n",
      "Generative Replay object created successfully\n"
     ]
    },
    {
     "name": "stderr",
     "output_type": "stream",
     "text": [
      "\n"
     ]
    }
   ],
   "source": [
    "frozen = utils.freeze_model(mnist_model)\n",
    "\n",
    "ewc_diag = EWC(frozen, \"diag\", diag=diag)\n",
    "ewc_rank1_opt = EWC(frozen, \"rank1_opt\", mu=mu, c=c)\n",
    "ewc_rank1 = EWC(frozen, \"rank1\", mu=mu, c=c)\n",
    "\n",
    "print(\"EWC objects created successfully\")\n",
    "# print(f\"EWC diagonal loss example: {ewc_diag.loss().item()}\")\n",
    "# print(f\"EWC rank1_opt loss example: {ewc_rank1_opt.loss().item()}\")\n",
    "# print(f\"EWC rank1 loss example: {ewc_rank1.loss().item()}\")\n",
    "\n",
    "gr = GenerativeReplay(frozen, [0,1], batch_size=128, seed=123, device=device)\n",
    "print(\"Generative Replay object created successfully\")"
   ]
  },
  {
   "cell_type": "code",
   "execution_count": 18,
   "id": "e42c6a77",
   "metadata": {},
   "outputs": [
    {
     "name": "stderr",
     "output_type": "stream",
     "text": [
      " 63%|██████▎   | 126/200 [48:36<28:32, 23.14s/it] \n"
     ]
    },
    {
     "ename": "KeyboardInterrupt",
     "evalue": "",
     "output_type": "error",
     "traceback": [
      "\u001b[31m---------------------------------------------------------------------------\u001b[39m",
      "\u001b[31mKeyboardInterrupt\u001b[39m                         Traceback (most recent call last)",
      "\u001b[36mCell\u001b[39m\u001b[36m \u001b[39m\u001b[32mIn[18]\u001b[39m\u001b[32m, line 2\u001b[39m\n\u001b[32m      1\u001b[39m optimizer = optim.Adam(mnist_model.parameters(), lr=\u001b[32m2e-4\u001b[39m)\n\u001b[32m----> \u001b[39m\u001b[32m2\u001b[39m utils.train_one_task(mnist_model, cl_mnist_train_loaders[\u001b[32m1\u001b[39m], \u001b[32m1\u001b[39m, optimizer, \n\u001b[32m      3\u001b[39m                      ewc_diag, \n\u001b[32m      4\u001b[39m                      gr,\n\u001b[32m      5\u001b[39m                      \u001b[32m200\u001b[39m, ROOT, device)\n",
      "\u001b[36mFile \u001b[39m\u001b[32m<string>:22\u001b[39m, in \u001b[36mtrain_one_task\u001b[39m\u001b[34m(model, train_loader, class_id, optimizer, ewc, gr, num_epochs, save_path, device)\u001b[39m\n",
      "\u001b[36mFile \u001b[39m\u001b[32m~/file_storage/miniconda3/envs/dl/lib/python3.13/site-packages/torch/_tensor.py:648\u001b[39m, in \u001b[36mTensor.backward\u001b[39m\u001b[34m(self, gradient, retain_graph, create_graph, inputs)\u001b[39m\n\u001b[32m    638\u001b[39m \u001b[38;5;28;01mif\u001b[39;00m has_torch_function_unary(\u001b[38;5;28mself\u001b[39m):\n\u001b[32m    639\u001b[39m     \u001b[38;5;28;01mreturn\u001b[39;00m handle_torch_function(\n\u001b[32m    640\u001b[39m         Tensor.backward,\n\u001b[32m    641\u001b[39m         (\u001b[38;5;28mself\u001b[39m,),\n\u001b[32m   (...)\u001b[39m\u001b[32m    646\u001b[39m         inputs=inputs,\n\u001b[32m    647\u001b[39m     )\n\u001b[32m--> \u001b[39m\u001b[32m648\u001b[39m torch.autograd.backward(\n\u001b[32m    649\u001b[39m     \u001b[38;5;28mself\u001b[39m, gradient, retain_graph, create_graph, inputs=inputs\n\u001b[32m    650\u001b[39m )\n",
      "\u001b[36mFile \u001b[39m\u001b[32m~/file_storage/miniconda3/envs/dl/lib/python3.13/site-packages/torch/autograd/__init__.py:353\u001b[39m, in \u001b[36mbackward\u001b[39m\u001b[34m(tensors, grad_tensors, retain_graph, create_graph, grad_variables, inputs)\u001b[39m\n\u001b[32m    348\u001b[39m     retain_graph = create_graph\n\u001b[32m    350\u001b[39m \u001b[38;5;66;03m# The reason we repeat the same comment below is that\u001b[39;00m\n\u001b[32m    351\u001b[39m \u001b[38;5;66;03m# some Python versions print out the first line of a multi-line function\u001b[39;00m\n\u001b[32m    352\u001b[39m \u001b[38;5;66;03m# calls in the traceback and some print out the last line\u001b[39;00m\n\u001b[32m--> \u001b[39m\u001b[32m353\u001b[39m _engine_run_backward(\n\u001b[32m    354\u001b[39m     tensors,\n\u001b[32m    355\u001b[39m     grad_tensors_,\n\u001b[32m    356\u001b[39m     retain_graph,\n\u001b[32m    357\u001b[39m     create_graph,\n\u001b[32m    358\u001b[39m     inputs,\n\u001b[32m    359\u001b[39m     allow_unreachable=\u001b[38;5;28;01mTrue\u001b[39;00m,\n\u001b[32m    360\u001b[39m     accumulate_grad=\u001b[38;5;28;01mTrue\u001b[39;00m,\n\u001b[32m    361\u001b[39m )\n",
      "\u001b[36mFile \u001b[39m\u001b[32m~/file_storage/miniconda3/envs/dl/lib/python3.13/site-packages/torch/autograd/graph.py:824\u001b[39m, in \u001b[36m_engine_run_backward\u001b[39m\u001b[34m(t_outputs, *args, **kwargs)\u001b[39m\n\u001b[32m    822\u001b[39m     unregister_hooks = _register_logging_hooks_on_whole_graph(t_outputs)\n\u001b[32m    823\u001b[39m \u001b[38;5;28;01mtry\u001b[39;00m:\n\u001b[32m--> \u001b[39m\u001b[32m824\u001b[39m     \u001b[38;5;28;01mreturn\u001b[39;00m Variable._execution_engine.run_backward(  \u001b[38;5;66;03m# Calls into the C++ engine to run the backward pass\u001b[39;00m\n\u001b[32m    825\u001b[39m         t_outputs, *args, **kwargs\n\u001b[32m    826\u001b[39m     )  \u001b[38;5;66;03m# Calls into the C++ engine to run the backward pass\u001b[39;00m\n\u001b[32m    827\u001b[39m \u001b[38;5;28;01mfinally\u001b[39;00m:\n\u001b[32m    828\u001b[39m     \u001b[38;5;28;01mif\u001b[39;00m attach_logging_hooks:\n",
      "\u001b[31mKeyboardInterrupt\u001b[39m: "
     ]
    }
   ],
   "source": [
    "optimizer = optim.Adam(mnist_model.parameters(), lr=2e-4)\n",
    "utils.train_one_task(mnist_model, cl_mnist_train_loaders[1], 1, optimizer, \n",
    "                     ewc_diag, \n",
    "                     gr,\n",
    "                     200, ROOT, device)\n"
   ]
  },
  {
   "cell_type": "code",
   "execution_count": 13,
   "id": "caa42e8c",
   "metadata": {},
   "outputs": [
    {
     "name": "stderr",
     "output_type": "stream",
     "text": [
      "Clipping input data to the valid range for imshow with RGB data ([0..1] for floats or [0..255] for integers). Got range [-1.0..1.0].\n"
     ]
    },
    {
     "name": "stdout",
     "output_type": "stream",
     "text": [
      "Replayed samples shape: torch.Size([64, 1, 32, 32]), Replayed labels shape: torch.Size([64])\n",
      "Replayed label distribution: {np.int64(0): np.int64(31), np.int64(1): np.int64(33)}\n"
     ]
    },
    {
     "data": {
      "image/png": "[encoded data removed]",
      "text/plain": [
       "<Figure size 800x400 with 1 Axes>"
      ]
     },
     "metadata": {},
     "output_type": "display_data"
    },
    {
     "name": "stdout",
     "output_type": "stream",
     "text": [
      "Replayed labels: [0 0 1 0 1 1 0 0 1 1 0 1 1 0 0 1 0 1 0 0 0 1 1 0 0 1 1 0 0 1 1 1 1 0 1 0 0\n",
      " 0 1 0 1 1 0 1 1 0 0 1 1 0 0 0 1 1 1 0 1 1 1 1 0 0 0 1]\n"
     ]
    }
   ],
   "source": [
    "x, y = gr.replay(\"uniform\")\n",
    "\n",
    "print(f\"Replayed samples shape: {x.shape}, Replayed labels shape: {y.shape}\")\n",
    "# compute the distribution of the replayed labels\n",
    "unique, counts = np.unique(y.cpu().numpy(), return_counts=True)\n",
    "label_distribution = dict(zip(unique, counts))\n",
    "print(\"Replayed label distribution:\", label_distribution)\n",
    "\n",
    "# display the replayed samples\n",
    "plt.figure(figsize=(8,4))\n",
    "plt.imshow(utils.make_grid(x.cpu(), nrow=16).permute(1,2,0))\n",
    "plt.title(\"Replayed samples\")\n",
    "plt.axis('off')\n",
    "plt.show()\n",
    "\n",
    "# print labels\n",
    "print(\"Replayed labels:\", y.cpu().numpy())"
   ]
  },
  {
   "cell_type": "code",
   "execution_count": null,
   "id": "03dd6bb4",
   "metadata": {},
   "outputs": [],
   "source": [
    "# Train Task 1 with different EWC variants using one-liner function calls\n",
    "base_state = torch.load(ROOT / \"mnist_model_large.pth\", map_location=device)\n",
    "\n",
    "# Uncomment any variant you want to train:\n",
    "# mnist_model.load_state_dict(base_state); train_continual_learning_tasks(mnist_model, cl_mnist_train_loaders, optim.Adam(mnist_model.parameters(), lr=2e-4), \"diag\", c, mu, diag, 200, ROOT, device, \"diag\")\n",
    "# mnist_model.load_state_dict(base_state); train_continual_learning_tasks(mnist_model, cl_mnist_train_loaders, optim.Adam(mnist_model.parameters(), lr=2e-4), \"rank1_opt\", c, mu, diag, 200, ROOT, device, \"rank1_opt\")\n",
    "mnist_model.load_state_dict(base_state); train_continual_learning_tasks(mnist_model, cl_mnist_train_loaders, optim.Adam(mnist_model.parameters(), lr=2e-4), \"rank1\", c, mu, diag, 200, ROOT, device, \"rank1\")"
   ]
  },
  {
   "cell_type": "code",
   "execution_count": null,
   "id": "aa243d06",
   "metadata": {},
   "outputs": [],
   "source": [
    "print(\"c*:\", c.item())"
   ]
  },
  {
   "cell_type": "code",
   "execution_count": null,
   "id": "1cc05541",
   "metadata": {},
   "outputs": [],
   "source": [
    "# Using the modular compare_fisher_errors_streaming function\n",
    "out = compare_fisher_errors_streaming(\n",
    "    mnist_model, 500, cl_mnist_train_loaders, mu, c, device=device, target_class=0, max_samples=None\n",
    ")\n",
    "print(\"Fisher error comparison results:\")\n",
    "print(out)"
   ]
  },
  {
   "cell_type": "code",
   "execution_count": null,
   "id": "63ceb35c",
   "metadata": {},
   "outputs": [],
   "source": [
    "# Using the modular empirical_fisher_dense function\n",
    "Fisher = empirical_fisher_dense(param_scores).to('cpu')  # (D, D)\n",
    "print(f\"Fisher matrix shape: {Fisher.shape}\")"
   ]
  },
  {
   "cell_type": "code",
   "execution_count": null,
   "id": "30bed4e4",
   "metadata": {},
   "outputs": [],
   "source": [
    "# Using the modular optimal_rank1_coeff function\n",
    "c_batch, mu_batch = optimal_rank1_coeff(param_scores, eps=1e-12, use_float64=False)\n",
    "print(\"Optimal coefficient c*:\", c_batch.item())\n",
    "print(f\"Mu shape: {mu_batch.shape}\")"
   ]
  },
  {
   "cell_type": "code",
   "execution_count": null,
   "id": "dd2c28b0",
   "metadata": {},
   "outputs": [],
   "source": [
    "# Using the modular analyze_fisher_approximations function\n",
    "analysis_results = analyze_fisher_approximations(param_scores, Fisher)\n",
    "print(\"Fisher matrix analysis:\")\n",
    "print(f\"Diagonal error: {analysis_results['diagonal_error']}\")\n",
    "print(f\"Rank-1 error: {analysis_results['rank1_error']}\")\n",
    "print(f\"Optimal rank-1 error: {analysis_results['rank1_optimal_error']}\")\n",
    "print(f\"Optimal coefficient: {analysis_results['optimal_coefficient']}\")"
   ]
  },
  {
   "cell_type": "code",
   "execution_count": null,
   "id": "7242eda0",
   "metadata": {},
   "outputs": [],
   "source": [
    "# Analyze Fisher approximation errors across timesteps with one function call\n",
    "error_analysis = analyze_fisher_errors_across_timesteps(mnist_model, cl_mnist_train_loaders, device, ROOT)"
   ]
  },
  {
   "cell_type": "code",
   "execution_count": null,
   "id": "daac3183",
   "metadata": {},
   "outputs": [],
   "source": [
    "# Print error analysis results\n",
    "print(\"Diagonal Errors:\", error_analysis['diag_errors'])\n",
    "print(\"Rank-1 Errors:\", error_analysis['rank1_errors'])\n",
    "print(\"Optimal Rank-1 Errors:\", error_analysis['rank1_optimal_errors'])"
   ]
  },
  {
   "cell_type": "code",
   "execution_count": null,
   "id": "a347a149",
   "metadata": {},
   "outputs": [],
   "source": [
    "# Plot error analysis with log scale\n",
    "t_levels = error_analysis['t_levels']\n",
    "plt.figure(figsize=(10, 5))\n",
    "plt.plot(t_levels, np.array(error_analysis['diag_errors'])*10000, label='Diagonal Error', marker='o')\n",
    "plt.plot(t_levels, np.array(error_analysis['rank1_errors'])*10000, label='Rank-1 Error', marker='o')\n",
    "plt.plot(t_levels, np.array(error_analysis['rank1_optimal_errors'])*10000, label='Optimal Rank-1 Error', marker='o')\n",
    "plt.yscale('log')\n",
    "plt.xlabel('Timestep Level')\n",
    "plt.ylabel('Error Norm')\n",
    "plt.title('EWC Fisher Matrix Approximation Errors')\n",
    "plt.legend()\n",
    "plt.grid()\n",
    "plt.show()"
   ]
  },
  {
   "cell_type": "code",
   "execution_count": null,
   "id": "b04cd3ec",
   "metadata": {},
   "outputs": [],
   "source": [
    "# Using the modular functions to analyze Fisher matrix\n",
    "Fisher = Fisher.to('cpu')\n",
    "param_scores = param_scores.to('cpu')\n",
    "\n",
    "# Use the modular optimal_rank1_coeff function \n",
    "c_analysis, mu_analysis = optimal_rank1_coeff(param_scores, eps=1e-12, use_float64=False)\n",
    "\n",
    "# Diagonal approximation\n",
    "F_diag = torch.diag(torch.diag(Fisher))\n",
    "err_diag = torch.linalg.norm(Fisher - F_diag)\n",
    "\n",
    "# Rank-1 approximation with optimal coefficient\n",
    "F_r1_score = mu_analysis.unsqueeze(1) @ mu_analysis.unsqueeze(0) * c_analysis\n",
    "err_r1_score = torch.linalg.norm(Fisher - F_r1_score)\n",
    "\n",
    "print(f\"‖F-F_diag‖_F = {err_diag:.10f},  ‖F-F_r1_score‖_F = {err_r1_score:.10f}\")"
   ]
  },
  {
   "cell_type": "code",
   "execution_count": null,
   "id": "402b8a3d",
   "metadata": {},
   "outputs": [],
   "source": [
    "# Empty cell for future use\n",
    "pass"
   ]
  },
  {
   "cell_type": "markdown",
   "id": "286cd1e4",
   "metadata": {},
   "source": [
    "# test FID"
   ]
  },
  {
   "cell_type": "code",
   "execution_count": null,
   "id": "7b07a149",
   "metadata": {},
   "outputs": [],
   "source": [
    "# Evaluate FID with one function call\n",
    "fid_cifar = evaluate_fid(cifar_model, cl_cifar_test_loaders[0], device)"
   ]
  },
  {
   "cell_type": "code",
   "execution_count": null,
   "id": "95a2860a",
   "metadata": {},
   "outputs": [],
   "source": [
    "# Load model variant and evaluate FID with one function call\n",
    "mnist_model.load_state_dict(torch.load(ROOT / \"mnist_model_large-task1-rank1.pth\", map_location=device))\n",
    "fid_mnist = evaluate_fid(mnist_model, cl_mnist_test_loaders[0], device)"
   ]
  },
  {
   "cell_type": "code",
   "execution_count": null,
   "id": "bce1dfc1",
   "metadata": {},
   "outputs": [],
   "source": [
    "# Generate and visualize samples with one function call\n",
    "samples = sample_and_visualize(mnist_model, device, n_samples=16)"
   ]
  },
  {
   "cell_type": "code",
   "execution_count": null,
   "id": "d8e69ab6",
   "metadata": {},
   "outputs": [],
   "source": [
    "# Check available test loaders\n",
    "print(\"Available test loader keys:\", cl_mnist_test_loaders.keys())"
   ]
  }
 ],
 "metadata": {
  "kernelspec": {
   "display_name": "dl",
   "language": "python",
   "name": "python3"
  },
  "language_info": {
   "codemirror_mode": {
    "name": "ipython",
    "version": 3
   },
   "file_extension": ".py",
   "mimetype": "text/x-python",
   "name": "python",
   "nbconvert_exporter": "python",
   "pygments_lexer": "ipython3",
   "version": "3.13.2"
  }
 },
 "nbformat": 4,
 "nbformat_minor": 5
}
